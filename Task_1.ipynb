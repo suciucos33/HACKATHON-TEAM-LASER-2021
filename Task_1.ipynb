{
  "nbformat": 4,
  "nbformat_minor": 0,
  "metadata": {
    "colab": {
      "name": "Task_1.ipynb",
      "provenance": [],
      "authorship_tag": "ABX9TyOTDZfoX5Pez+jtawa61RoI",
      "include_colab_link": true
    },
    "kernelspec": {
      "name": "python3",
      "display_name": "Python 3"
    }
  },
  "cells": [
    {
      "cell_type": "markdown",
      "metadata": {
        "id": "view-in-github",
        "colab_type": "text"
      },
      "source": [
        "<a href=\"https://colab.research.google.com/github/suciucos33/HACKATHON-TEAM-LASER-2021/blob/main/Task_1.ipynb\" target=\"_parent\"><img src=\"https://colab.research.google.com/assets/colab-badge.svg\" alt=\"Open In Colab\"/></a>"
      ]
    },
    {
      "cell_type": "markdown",
      "metadata": {
        "id": "zYQZQRtw63df"
      },
      "source": [
        "Task 1 of the hackathon:\r\n",
        "- Master equation for the Rabi model – decaying\r\n",
        "Rabi oscillations for different levels of noise,\r\n",
        "detuning, dephasing etc"
      ]
    },
    {
      "cell_type": "code",
      "metadata": {
        "id": "i8O6pX0c6qMa"
      },
      "source": [
        ""
      ],
      "execution_count": null,
      "outputs": []
    }
  ]
}
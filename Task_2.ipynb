{
  "nbformat": 4,
  "nbformat_minor": 0,
  "metadata": {
    "colab": {
      "name": "Task_2.ipynb",
      "provenance": [],
      "authorship_tag": "ABX9TyNrBBQuTN+SPqfJsPZMLFE9",
      "include_colab_link": true
    },
    "kernelspec": {
      "name": "python3",
      "display_name": "Python 3"
    }
  },
  "cells": [
    {
      "cell_type": "markdown",
      "metadata": {
        "id": "view-in-github",
        "colab_type": "text"
      },
      "source": [
        "<a href=\"https://colab.research.google.com/github/suciucos33/HACKATHON-TEAM-LASER-2021/blob/main/Task_2.ipynb\" target=\"_parent\"><img src=\"https://colab.research.google.com/assets/colab-badge.svg\" alt=\"Open In Colab\"/></a>"
      ]
    },
    {
      "cell_type": "markdown",
      "metadata": {
        "id": "ZzVJp64t73ir"
      },
      "source": [
        "Task 2 of the hackathon:\r\n",
        "- Master equation for the Jaynes-Cummings model –\r\n",
        "decaying generalized Rabi oscillations, starting from a\r\n",
        "superposition\r\n"
      ]
    },
    {
      "cell_type": "code",
      "metadata": {
        "id": "V64IvGCo73Ep"
      },
      "source": [
        ""
      ],
      "execution_count": null,
      "outputs": []
    }
  ]
}
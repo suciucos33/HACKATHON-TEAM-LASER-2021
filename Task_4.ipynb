{
  "nbformat": 4,
  "nbformat_minor": 0,
  "metadata": {
    "colab": {
      "name": "Task_4.ipynb",
      "provenance": [],
      "collapsed_sections": [],
      "authorship_tag": "ABX9TyN8umt/kOqhTdy6RuOScA+T",
      "include_colab_link": true
    },
    "kernelspec": {
      "name": "python3",
      "display_name": "Python 3"
    }
  },
  "cells": [
    {
      "cell_type": "markdown",
      "metadata": {
        "id": "view-in-github",
        "colab_type": "text"
      },
      "source": [
        "<a href=\"https://colab.research.google.com/github/suciucos33/HACKATHON-TEAM-LASER-2021/blob/main/Task_4.ipynb\" target=\"_parent\"><img src=\"https://colab.research.google.com/assets/colab-badge.svg\" alt=\"Open In Colab\"/></a>"
      ]
    },
    {
      "cell_type": "markdown",
      "metadata": {
        "id": "EbK1D3ml86cE"
      },
      "source": [
        "Task 4 of the hackathon:\r\n",
        "- Driven-dissipative Jaynes-Cummings model –\r\n",
        "collapse and revival under noisy operation"
      ]
    },
    {
      "cell_type": "code",
      "metadata": {
        "id": "PxxTe7Mk859i"
      },
      "source": [
        ""
      ],
      "execution_count": null,
      "outputs": []
    }
  ]
}
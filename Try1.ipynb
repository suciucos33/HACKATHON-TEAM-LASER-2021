{
  "nbformat": 4,
  "nbformat_minor": 0,
  "metadata": {
    "colab": {
      "name": "Try1.ipynb",
      "provenance": [],
      "authorship_tag": "ABX9TyOuiZIXh1iSmyMvmrOv/btx",
      "include_colab_link": true
    },
    "kernelspec": {
      "name": "python3",
      "display_name": "Python 3"
    }
  },
  "cells": [
    {
      "cell_type": "markdown",
      "metadata": {
        "id": "view-in-github",
        "colab_type": "text"
      },
      "source": [
        "<a href=\"https://colab.research.google.com/github/suciucos33/HACKATHON-TEAM-LASER-2021/blob/main/Try1.ipynb\" target=\"_parent\"><img src=\"https://colab.research.google.com/assets/colab-badge.svg\" alt=\"Open In Colab\"/></a>"
      ]
    },
    {
      "cell_type": "code",
      "metadata": {
        "colab": {
          "base_uri": "https://localhost:8080/",
          "height": 335
        },
        "id": "h4C1_HuUIyX2",
        "outputId": "ad02dde8-23ea-4947-e50a-12e8c52df4d1"
      },
      "source": [
        "import numpy as np\r\n",
        "import matplotlib.pyplot as plt\r\n",
        "from scipy.integrate import odeint\r\n",
        "from scipy.integrate import RK45\r\n",
        "\r\n",
        "def tank(p,t):\r\n",
        "   # constants\r\n",
        "   #c1 = 0.13\r\n",
        "   #c2 = 0.20\r\n",
        "   #Ac = 2      # m^2\r\n",
        "   # inflow\r\n",
        "   #qin = 0.5   # m^3/hr\r\n",
        "   # outflow\r\n",
        "   #dp0 =  c_1*p[0]+ ..\r\n",
        "   #\r\n",
        "   #\r\n",
        "   #\r\n",
        "   #qout1 = c1 * h[0]**0.5\r\n",
        "   #qout2 = c2 * h[1]**0.5\r\n",
        "   # differential equations\r\n",
        "   #dhdt1 = (qin   - qout1) / Ac\r\n",
        "   #dhdt2 = (qout1 - qout2) / Ac\r\n",
        "   # overflow conditions\r\n",
        "   #if h[0]>=1 and dhdt1>=0:\r\n",
        "   #    dhdt1 = 0\r\n",
        "   #if h[1]>=1 and dhdt2>=0:\r\n",
        "   #    dhdt2 = 0\r\n",
        "   #dhdt = [dhdt1,dhdt2]\r\n",
        "\r\n",
        "   gam = 0.01\r\n",
        "   om = 0.01\r\n",
        "   om_conj = np.conj(om)\r\n",
        "   N_th = 0\r\n",
        "   delta = 0\r\n",
        "\r\n",
        "   p11 = p[0]\r\n",
        "   p12 = p[1]\r\n",
        "   p21 = p[2]\r\n",
        "   p22 = p[3]\r\n",
        "   dp22 = -gam*(N_th +1)*p22 +gam*N_th*p11 + 1j*om_conj*p21/2 - 1j*om*p12/2 \r\n",
        "   dp11 = gam*(N_th +1)*p22 -gam*N_th*p11 - 1j*om_conj*p21/2 + 1j*om*p12/2\r\n",
        "   dp12 = -gam*(2*N_th + 1)*p12/2 + 1j*delta*p12 - 1j*om_conj*(p22-p11)/2\r\n",
        "   dp21 = -gam*(2*N_th + 1)*p21/2 - 1j*delta*p21 + 1j*om_conj*(p22-p11)/2\r\n",
        "\r\n",
        "   dp = [dp11, dp12, dp21, dp22];\r\n",
        "   return dp\r\n",
        "\r\n",
        "# integrate the equations\r\n",
        "t = np.linspace(0,1000,1000) # times to report solution\r\n",
        "p0 = [0,0,0,1]            # initial conditions for height\r\n",
        "y = odeint(tank,p0,t) # integrate\r\n",
        "\r\n",
        "# plot results\r\n",
        "plt.figure(1)\r\n",
        "#plt.plot(t,y[:,0],'b-')\r\n",
        "#plt.plot(t,y[:,1],'r-')\r\n",
        "#plt.plot(t,y[:,2],'k-')\r\n",
        "plt.plot(t,y[:,3],'g-')\r\n",
        "plt.xlabel('Time')\r\n",
        "plt.ylabel('density matrix elements')\r\n",
        "#plt.legend(['p11','p12', 'p21', 'p22'])\r\n",
        "plt.show()"
      ],
      "execution_count": 40,
      "outputs": [
        {
          "output_type": "stream",
          "text": [
            "/usr/local/lib/python3.7/dist-packages/scipy/integrate/odepack.py:245: ComplexWarning: Casting complex values to real discards the imaginary part\n",
            "  int(bool(tfirst)))\n"
          ],
          "name": "stderr"
        },
        {
          "output_type": "display_data",
          "data": {
            "image/png": "[encoded data removed]",
            "text/plain": [
              "<Figure size 432x288 with 1 Axes>"
            ]
          },
          "metadata": {
            "tags": [],
            "needs_background": "light"
          }
        }
      ]
    }
  ]
}